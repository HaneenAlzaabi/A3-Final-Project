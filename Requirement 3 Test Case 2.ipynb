{
  "metadata": {
    "kernelspec": {
      "name": "python",
      "display_name": "Python (Pyodide)",
      "language": "python"
    },
    "language_info": {
      "codemirror_mode": {
        "name": "python",
        "version": 3
      },
      "file_extension": ".py",
      "mimetype": "text/x-python",
      "name": "python",
      "nbconvert_exporter": "python",
      "pygments_lexer": "ipython3",
      "version": "3.8"
    }
  },
  "nbformat_minor": 4,
  "nbformat": 4,
  "cells": [
    {
      "cell_type": "code",
      "source": "import heapq\n\n\nclass SocialMediaPost:\n    def __init__(self, datetime, post, person, views):\n        self.datetime = datetime\n        self.post = post\n        self.person = person\n        self.views = views\n\n    def __lt__(self, other):\n        # This makes heapq treat this as a max-heap based on views\n        return self.views > other.views\n\n    def __repr__(self):\n        return f'({self.datetime}, \"{self.post}\", {self.person}, {self.views} views)'\n\n\n# Initialize a max heap\nmax_heap = []\n\n# Simulating insertion of posts\nposts = [\n    SocialMediaPost(\"2023-04-01T12:00:00\", \"Selfie\", \"Hamad\", 1120),\n    SocialMediaPost(\"2023-04-01T13:00:00\", \"Breakfast!\", \"Ahmed\", 780),\n    SocialMediaPost(\"2023-04-01T14:00:00\", \"Spam\", \"Mohammed\", 923),\n]\n\n# Adding multiple posts\nmore_posts = [\n    SocialMediaPost(\"2023-04-02T09:00:00\", \"Morning Run\", \"Layla\", 645),\n    SocialMediaPost(\"2023-04-02T10:00:00\", \"At the Beach\", \"Khaled\", 1830),\n    SocialMediaPost(\"2023-04-02T11:00:00\", \"Lunch Time\", \"Noura\", 460)\n]\n\nfor post in more_posts:\n    heapq.heappush(max_heap, post)\n\n# Retrieve posts one by one to see the ordering\nprint(\"Retrieving posts in order of views:\")\nwhile max_heap:\n    print(heapq.heappop(max_heap))",
      "metadata": {
        "trusted": true
      },
      "outputs": [
        {
          "name": "stdout",
          "text": "Retrieving posts in order of views:\n(2023-04-02T10:00:00, \"At the Beach\", Khaled, 1830 views)\n(2023-04-02T09:00:00, \"Morning Run\", Layla, 645 views)\n(2023-04-02T11:00:00, \"Lunch Time\", Noura, 460 views)\n",
          "output_type": "stream"
        }
      ],
      "execution_count": 2
    },
    {
      "cell_type": "code",
      "source": "",
      "metadata": {
        "trusted": true
      },
      "outputs": [],
      "execution_count": null
    }
  ]
}
